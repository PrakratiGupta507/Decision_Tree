{
  "nbformat": 4,
  "nbformat_minor": 0,
  "metadata": {
    "colab": {
      "name": "Untitled",
      "provenance": [],
      "collapsed_sections": []
    },
    "kernelspec": {
      "name": "python3",
      "display_name": "Python 3"
    }
  },
  "cells": [
    {
      "cell_type": "code",
      "metadata": {
        "id": "w-ws6HwBl6Or",
        "outputId": "7e28fd41-66b4-4d61-ac89-57e876d2e784",
        "colab": {
          "base_uri": "https://localhost:8080/",
          "height": 34
        }
      },
      "source": [
        "from google.colab import drive\n",
        "drive.mount('/content/gdrive')"
      ],
      "execution_count": 2,
      "outputs": [
        {
          "output_type": "stream",
          "text": [
            "Mounted at /content/gdrive\n"
          ],
          "name": "stdout"
        }
      ]
    },
    {
      "cell_type": "code",
      "metadata": {
        "id": "K6WrZBKTkcCp"
      },
      "source": [
        "import numpy as np\n",
        "from sklearn.model_selection import train_test_split\n",
        "from scipy.io import loadmat\n",
        "from sklearn.datasets import make_blobs\n",
        "from sklearn import tree\n",
        "from sklearn.tree import DecisionTreeClassifier\n",
        "from sklearn.metrics import accuracy_score\n",
        "import matplotlib.pyplot as plt\n",
        "import seaborn as sns\n",
        "sns.set()\n",
        "%matplotlib inline"
      ],
      "execution_count": 9,
      "outputs": []
    },
    {
      "cell_type": "code",
      "metadata": {
        "id": "GvplaIWurfwQ",
        "outputId": "9571f546-4554-40c0-ca1d-bcc04f795737",
        "colab": {
          "base_uri": "https://localhost:8080/",
          "height": 663
        }
      },
      "source": [
        "trainAcc, testAcc = [], []\n",
        "data = loadmat(\"/content/gdrive/My Drive/ML_Assignment/Dataset/dataset_2.mat\")\n",
        "print(\"Dataset size: \", len(data['samples']))\n",
        "X, y = data['samples'], data['labels'][0]\n",
        "X_train,X_test,y_train,y_test = train_test_split(X, y, test_size = 0.3)\n",
        "print(X_train.shape, X_test.shape, y_train.shape, y_test.shape)\n",
        "for max_level in range(3,15):\n",
        "  decision_tree = DecisionTreeClassifier(max_leaf_nodes=max_level, random_state=0)\n",
        "  decision_tree.fit(X_train, y_train)\n",
        "  y_predicted = decision_tree.predict(X_train)\n",
        "  trainAcc.append(accuracy_score(y_train,y_predicted))\n",
        "  print(\"Train accuracy for max depth \", max_level, \"is: \", trainAcc[-1]*100)\n",
        "  y_predicted = decision_tree.predict(X_test)\n",
        "  testAcc.append(accuracy_score(y_test,y_predicted))\n",
        "  print(\"Test accuracy for max depth \", max_level, \"is: \", testAcc[-1]*100)\n",
        "  print(\"---------------------------------------------------------\")"
      ],
      "execution_count": 10,
      "outputs": [
        {
          "output_type": "stream",
          "text": [
            "Dataset size:  20000\n",
            "(14000, 2) (6000, 2) (14000,) (6000,)\n",
            "Train accuracy for max depth  3 is:  74.85714285714286\n",
            "Test accuracy for max depth  3 is:  75.33333333333333\n",
            "---------------------------------------------------------\n",
            "Train accuracy for max depth  4 is:  96.69285714285715\n",
            "Test accuracy for max depth  4 is:  96.65\n",
            "---------------------------------------------------------\n",
            "Train accuracy for max depth  5 is:  96.69285714285715\n",
            "Test accuracy for max depth  5 is:  96.65\n",
            "---------------------------------------------------------\n",
            "Train accuracy for max depth  6 is:  96.69285714285715\n",
            "Test accuracy for max depth  6 is:  96.65\n",
            "---------------------------------------------------------\n",
            "Train accuracy for max depth  7 is:  96.69285714285715\n",
            "Test accuracy for max depth  7 is:  96.65\n",
            "---------------------------------------------------------\n",
            "Train accuracy for max depth  8 is:  96.69285714285715\n",
            "Test accuracy for max depth  8 is:  96.65\n",
            "---------------------------------------------------------\n",
            "Train accuracy for max depth  9 is:  96.69285714285715\n",
            "Test accuracy for max depth  9 is:  96.65\n",
            "---------------------------------------------------------\n",
            "Train accuracy for max depth  10 is:  96.69285714285715\n",
            "Test accuracy for max depth  10 is:  96.65\n",
            "---------------------------------------------------------\n",
            "Train accuracy for max depth  11 is:  96.69285714285715\n",
            "Test accuracy for max depth  11 is:  96.65\n",
            "---------------------------------------------------------\n",
            "Train accuracy for max depth  12 is:  96.71428571428572\n",
            "Test accuracy for max depth  12 is:  96.66666666666667\n",
            "---------------------------------------------------------\n",
            "Train accuracy for max depth  13 is:  96.73571428571428\n",
            "Test accuracy for max depth  13 is:  96.61666666666666\n",
            "---------------------------------------------------------\n",
            "Train accuracy for max depth  14 is:  96.77142857142857\n",
            "Test accuracy for max depth  14 is:  96.5\n",
            "---------------------------------------------------------\n"
          ],
          "name": "stdout"
        }
      ]
    },
    {
      "cell_type": "code",
      "metadata": {
        "id": "vcOeoGZ8vsaM"
      },
      "source": [
        ""
      ],
      "execution_count": null,
      "outputs": []
    }
  ]
}