{
 "cells": [
  {
   "cell_type": "code",
   "execution_count": 32,
   "metadata": {},
   "outputs": [],
   "source": [
    "import sys\n",
    "import math\n",
    "import pandas as pd\n",
    "import numpy as np\n",
    "from numpy import *\n",
    "import scipy.stats as stats\n",
    "from scipy.io import loadmat\n",
    "import random\n",
    "import matplotlib.pyplot as plt\n",
    "from sklearn import preprocessing\n",
    "import seaborn as sns\n",
    "from sklearn import tree\n",
    "from sklearn.tree import DecisionTreeClassifier\n",
    "from sklearn.metrics import accuracy_score\n",
    "from sklearn.model_selection import train_test_split\n",
    "sns.set()\n",
    "%matplotlib inline"
   ]
  },
  {
   "cell_type": "code",
   "execution_count": 33,
   "metadata": {},
   "outputs": [
    {
     "name": "stdout",
     "output_type": "stream",
     "text": [
      "Data Length:  43824\n",
      "Data Length after removing NaN values:  41757\n",
      "    year  month  day  hour  pm2.5  DEWP  TEMP    PRES cbwd   Iws  Is  Ir\n",
      "24  2010      1    2     0  129.0   -16  -4.0  1020.0   SE  1.79   0   0\n",
      "25  2010      1    2     1  148.0   -15  -4.0  1020.0   SE  2.68   0   0\n",
      "26  2010      1    2     2  159.0   -11  -5.0  1021.0   SE  3.57   0   0\n",
      "27  2010      1    2     3  181.0    -7  -5.0  1022.0   SE  5.36   1   0\n",
      "28  2010      1    2     4  138.0    -7  -5.0  1022.0   SE  6.25   2   0\n"
     ]
    }
   ],
   "source": [
    "df = pd.read_csv(\"dataset_3.csv\")\n",
    "df = df.drop(['No'], axis=1)\n",
    "print(\"Data Length: \", len(df))\n",
    "df = df.dropna()\n",
    "print(\"Data Length after removing NaN values: \", len(df))\n",
    "print(df.head())"
   ]
  },
  {
   "cell_type": "code",
   "execution_count": 34,
   "metadata": {},
   "outputs": [
    {
     "name": "stdout",
     "output_type": "stream",
     "text": [
      "    year  month  day  hour  pm2.5  DEWP  TEMP    PRES  cbwd   Iws  Is  Ir\n",
      "24  2010      1    2     0  129.0   -16  -4.0  1020.0     2  1.79   0   0\n",
      "25  2010      1    2     1  148.0   -15  -4.0  1020.0     2  2.68   0   0\n",
      "26  2010      1    2     2  159.0   -11  -5.0  1021.0     2  3.57   0   0\n",
      "27  2010      1    2     3  181.0    -7  -5.0  1022.0     2  5.36   1   0\n",
      "28  2010      1    2     4  138.0    -7  -5.0  1022.0     2  6.25   2   0\n"
     ]
    }
   ],
   "source": [
    "le = preprocessing.LabelEncoder()\n",
    "le.fit(np.unique(df['cbwd']))\n",
    "df['cbwd'] = le.transform(df['cbwd'])\n",
    "print(df.head())"
   ]
  },
  {
   "cell_type": "code",
   "execution_count": 35,
   "metadata": {},
   "outputs": [],
   "source": [
    "target = \"month\""
   ]
  },
  {
   "cell_type": "code",
   "execution_count": 39,
   "metadata": {},
   "outputs": [],
   "source": [
    "trainAccEn = []\n",
    "testAccEn = []\n",
    "treeEn = []\n",
    "TotalNodesEn = []\n",
    "for max_level in [4, 8, 10, 15, 20, 30]:\n",
    "    X_train,X_test,y_train,y_test = train_test_split(df.drop([target], axis=1), df[target], test_size=0.3)\n",
    "    for i in np.arange(0, 100, 1):\n",
    "        decision_tree = DecisionTreeClassifier(max_leaf_nodes=max_level, random_state=0)\n",
    "        decision_tree.fit(X_train, y_train)\n",
    "        treeEn.append(decision_tree)\n",
    "\n",
    "    correct = 0\n",
    "    dataPredict = []\n",
    "    for tree in treeEn:\n",
    "        y_predicted = tree.predict(X_train)\n",
    "        dataPredict.append(y_predicted)\n",
    "    \n",
    "    trainAcc = 0\n",
    "    for y_predicted in dataPredict:\n",
    "        trainAcc += accuracy_score(y_train,y_predicted)\n",
    "    trainAccEn.append(trainAcc/len(X_train))\n",
    "    \n",
    "    correct = 0\n",
    "    dataPredict = []\n",
    "    for tree in treeEn:\n",
    "        y_predicted = tree.predict(X_test)\n",
    "        dataPredict.append(y_predicted)\n",
    "    \n",
    "    testAcc = 0\n",
    "    for y_predicted in dataPredict:\n",
    "        testAcc += accuracy_score(y_test, y_predicted)\n",
    "    testAccEn.append(testAcc/len(X_test))"
   ]
  },
  {
   "cell_type": "code",
   "execution_count": 43,
   "metadata": {
    "scrolled": true
   },
   "outputs": [
    {
     "name": "stdout",
     "output_type": "stream",
     "text": [
      "\n",
      "The train accuracy for  4 is:  0.0009338263351131836\n",
      "\n",
      "The train accuracy for  8 is:  0.002242213245854613\n",
      "\n",
      "The train accuracy for  10 is:  0.0035022584323040253\n",
      "\n",
      "The train accuracy for  15 is:  0.004878183296838414\n",
      "\n",
      "The train accuracy for  20 is:  0.006318251659949161\n",
      "\n",
      "The train accuracy for  30 is:  0.00789831203820097\n",
      "\n",
      "The test accuracy for  4 is:  0.002168195604553332\n",
      "\n",
      "The test accuracy for  8 is:  0.005153844914849255\n",
      "\n",
      "The test accuracy for  10 is:  0.00820065989603463\n",
      "\n",
      "The test accuracy for  15 is:  0.011402300481659303\n",
      "\n",
      "The test accuracy for  20 is:  0.014789349507167664\n",
      "\n",
      "The test accuracy for  30 is:  0.01842233550104478\n"
     ]
    }
   ],
   "source": [
    "level = [4, 8, 10, 15, 20, 30]\n",
    "i = 0\n",
    "for acc in trainAccEn:\n",
    "    print(\"\\nThe train accuracy for \", level[i], \"is: \", acc)\n",
    "    i += 1\n",
    "i = 0\n",
    "for acc in testAccEn:\n",
    "    print(\"\\nThe test accuracy for \", level[i], \"is: \", acc)\n",
    "    i += 1"
   ]
  },
  {
   "cell_type": "code",
   "execution_count": 44,
   "metadata": {
    "scrolled": true
   },
   "outputs": [
    {
     "data": {
      "image/png": "[encoded data removed]",
      "text/plain": [
       "<Figure size 432x288 with 1 Axes>"
      ]
     },
     "metadata": {
      "needs_background": "light"
     },
     "output_type": "display_data"
    }
   ],
   "source": [
    "depth = [4, 8, 10, 15, 20, 30]\n",
    "plt.plot(depth, trainAccEn)\n",
    "plt.plot(depth, testAccEn)\n",
    "plt.xlabel('depth')\n",
    "plt.ylabel('Accuracy')\n",
    "plt.show()"
   ]
  },
  {
   "cell_type": "code",
   "execution_count": null,
   "metadata": {},
   "outputs": [],
   "source": []
  }
 ],
 "metadata": {
  "kernelspec": {
   "display_name": "Python 3",
   "language": "python",
   "name": "python3"
  },
  "language_info": {
   "codemirror_mode": {
    "name": "ipython",
    "version": 3
   },
   "file_extension": ".py",
   "mimetype": "text/x-python",
   "name": "python",
   "nbconvert_exporter": "python",
   "pygments_lexer": "ipython3",
   "version": "3.8.6rc1"
  }
 },
 "nbformat": 4,
 "nbformat_minor": 4
}
